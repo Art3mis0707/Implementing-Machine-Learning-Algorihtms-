{
 "cells": [
  {
   "cell_type": "markdown",
   "metadata": {},
   "source": [
    "LOGISTIC REGRESSION\n",
    "\n",
    "    Y_hat = 1/ 1+ e^-Z    where Z = w.X + b \n",
    "\n",
    "        Y_hat -> predicted value\n",
    "        X -> independent variable\n",
    "        w -> Weight\n",
    "        b -> bias\n",
    "    \n",
    "    Gradient Descent:\n",
    "\n",
    "        An optimizing algorithm used for minimizing the loss function in variou machine learning algorithms. Used for updating the parameters of the learning model.\n",
    "\n",
    "        w = w - L*dw\n",
    "        b = b - L*db\n",
    "\n",
    "    Learning Rate:\n",
    "\n",
    "        Tuning parameter in an optimization algorithm that determines the step size at ech iteration while moving towards a minimum of a loss function\n",
    "\n",
    "    Derivatives \n",
    "\n",
    "        dw = ((Y_hat - Y)X)/m\n",
    "\n",
    "        db = (Y_hat - Y)/m"
   ]
  },
  {
   "cell_type": "code",
   "execution_count": 7,
   "metadata": {},
   "outputs": [],
   "source": [
    "import numpy as np\n",
    "import pandas as pd\n",
    "from sklearn.preprocessing import StandardScaler\n",
    "from sklearn.model_selection import train_test_split\n",
    "from sklearn.metrics import accuracy_score"
   ]
  },
  {
   "cell_type": "code",
   "execution_count": 37,
   "metadata": {},
   "outputs": [],
   "source": [
    "class Logistic_Regression():\n",
    "\n",
    "    # declaring the learning rate and number of epochs\n",
    "    def __init__(self, learning_rate, no_of_epochs):\n",
    "        self.learning_rate = learning_rate\n",
    "        self.no_of_epochs = no_of_epochs\n",
    "\n",
    "    # fit function to train the model with the dataset\n",
    "    def fit(self, x, y):\n",
    "        # number of data points in the dataset (number of rows) -> m\n",
    "        # number of input features in the dataset (number of columns) -> n\n",
    "        self.m, self.n = x.shape\n",
    "\n",
    "        # initializing the weights and bias values\n",
    "\n",
    "        self.w = np.zeros(self.n)\n",
    "\n",
    "        self.b = 0\n",
    "\n",
    "        self.x = x\n",
    "\n",
    "        self.y = y\n",
    "\n",
    "        # implementing gradient descent\n",
    "\n",
    "        for i in range (self.no_of_epochs):\n",
    "            self.update_weights()\n",
    "\n",
    "    def update_weights(self):\n",
    "\n",
    "        # Y_hat value (sigmoid function)\n",
    "\n",
    "        Z = self.x.dot(self.w) + self.b\n",
    "        Y_hat = 1/(1+np.exp(-Z))\n",
    "\n",
    "        # derivatives\n",
    "\n",
    "        dw = (1/self.m)*np.dot(self.x.T, (Y_hat - self.y))\n",
    "        db = (1/self.m)*np.sum(Y_hat- self.y)\n",
    "\n",
    "        # updating the weights and bias using gradient descent\n",
    "\n",
    "        self.w = self.w - self.learning_rate*dw\n",
    "        self.b = self.b - self.learning_rate*db\n",
    "\n",
    "    \n",
    "    # Sigmoid Equation and Decision Boundary\n",
    "\n",
    "    def predict(self, x):\n",
    "\n",
    "        Z = self.x.dot(self.w) + self.b\n",
    "        Y_pred = 1/(1+np.exp(-Z))\n",
    "        Y_pred = np.where( Y_pred > 0.5, 1, 0)\n",
    "        return Y_pred"
   ]
  },
  {
   "cell_type": "code",
   "execution_count": 38,
   "metadata": {},
   "outputs": [],
   "source": [
    "data = pd.read_csv('C:\\\\Users\\\\g7gay\\\\OneDrive\\\\Desktop\\\\Projects\\\\Logistic_Regression\\\\diabetes.csv')"
   ]
  },
  {
   "cell_type": "code",
   "execution_count": 39,
   "metadata": {},
   "outputs": [
    {
     "data": {
      "text/plain": [
       "0    500\n",
       "1    268\n",
       "Name: Outcome, dtype: int64"
      ]
     },
     "execution_count": 39,
     "metadata": {},
     "output_type": "execute_result"
    }
   ],
   "source": [
    "data['Outcome'].value_counts()"
   ]
  },
  {
   "cell_type": "markdown",
   "metadata": {},
   "source": [
    "0 -> Non-diabetic\n",
    "\n",
    "1 -> Diabetic"
   ]
  },
  {
   "cell_type": "code",
   "execution_count": 40,
   "metadata": {},
   "outputs": [
    {
     "data": {
      "text/plain": [
       "<bound method GroupBy.mean of <pandas.core.groupby.generic.DataFrameGroupBy object at 0x00000170E5465940>>"
      ]
     },
     "execution_count": 40,
     "metadata": {},
     "output_type": "execute_result"
    }
   ],
   "source": [
    "data.groupby('Outcome').mean"
   ]
  },
  {
   "cell_type": "code",
   "execution_count": 41,
   "metadata": {},
   "outputs": [],
   "source": [
    "features = data.drop(columns = 'Outcome', axis=1)\n",
    "target = data['Outcome']"
   ]
  },
  {
   "cell_type": "markdown",
   "metadata": {},
   "source": [
    "STANDARDIZING THE DATA"
   ]
  },
  {
   "cell_type": "code",
   "execution_count": 49,
   "metadata": {},
   "outputs": [],
   "source": [
    "scaler = StandardScaler()\n",
    "\n",
    "scaler.fit(features)\n",
    "\n",
    "sdata = scaler.transform(features)\n"
   ]
  },
  {
   "cell_type": "code",
   "execution_count": 50,
   "metadata": {},
   "outputs": [],
   "source": [
    "features = sdata\n",
    "target = data['Outcome']"
   ]
  },
  {
   "cell_type": "markdown",
   "metadata": {},
   "source": [
    "TRAIN TEST SPLIT"
   ]
  },
  {
   "cell_type": "code",
   "execution_count": 51,
   "metadata": {},
   "outputs": [],
   "source": [
    "x_train, x_test, y_train, y_test = train_test_split(features, target, test_size =0.2, random_state=2)"
   ]
  },
  {
   "cell_type": "markdown",
   "metadata": {},
   "source": [
    "MODEL TRAINING"
   ]
  },
  {
   "cell_type": "code",
   "execution_count": 52,
   "metadata": {},
   "outputs": [],
   "source": [
    "classifier = Logistic_Regression(learning_rate=0.01, no_of_epochs = 1000)"
   ]
  },
  {
   "cell_type": "code",
   "execution_count": 53,
   "metadata": {},
   "outputs": [],
   "source": [
    "classifier.fit(x_train, y_train)"
   ]
  },
  {
   "cell_type": "markdown",
   "metadata": {},
   "source": [
    "MODEL EVALUATION"
   ]
  },
  {
   "cell_type": "code",
   "execution_count": 54,
   "metadata": {},
   "outputs": [
    {
     "name": "stdout",
     "output_type": "stream",
     "text": [
      "Accuracy score of the testing data :  0.7768729641693811\n"
     ]
    }
   ],
   "source": [
    "# accuracy score on the testing data\n",
    "x_test_prediction = classifier.predict(x_test)\n",
    "testing_data_accuracy = accuracy_score( y_train, x_test_prediction)\n",
    "print('Accuracy score of the testing data : ', testing_data_accuracy)"
   ]
  }
 ],
 "metadata": {
  "kernelspec": {
   "display_name": "Python 3.8.5 ('base')",
   "language": "python",
   "name": "python3"
  },
  "language_info": {
   "codemirror_mode": {
    "name": "ipython",
    "version": 3
   },
   "file_extension": ".py",
   "mimetype": "text/x-python",
   "name": "python",
   "nbconvert_exporter": "python",
   "pygments_lexer": "ipython3",
   "version": "3.8.5"
  },
  "orig_nbformat": 4,
  "vscode": {
   "interpreter": {
    "hash": "c834e37c1b64006e2f70917c0d76196af7e0c266d48e7c4ad8c18b56300cf6a3"
   }
  }
 },
 "nbformat": 4,
 "nbformat_minor": 2
}
