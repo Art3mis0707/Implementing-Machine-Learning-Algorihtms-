{
 "cells": [
  {
   "cell_type": "markdown",
   "metadata": {},
   "source": [
    "LINEAR REGRESSION \n",
    "\n",
    "    Y = wX + b\n",
    "        Y -> dependent variable \n",
    "        X -> independent variable\n",
    "        w -> weight\n",
    "        b -> bias\n",
    "\n",
    "    Gradient Descent\n",
    "        Optimization algorithm used for minimizing the loss function in various machine learning algorithms.\n",
    "            w = w - Ldw\n",
    "            b = b - Ldb\n",
    "    \n",
    "    Learning Rate\n",
    "        Tuning Parameter in an optimization algorithm that determines the step size of each iteration while moving towards the minimum of a loss function"
   ]
  },
  {
   "cell_type": "code",
   "execution_count": 1,
   "metadata": {},
   "outputs": [],
   "source": [
    "import numpy as np"
   ]
  },
  {
   "cell_type": "markdown",
   "metadata": {},
   "source": [
    "LINEAR REGRESSION"
   ]
  },
  {
   "cell_type": "code",
   "execution_count": 28,
   "metadata": {},
   "outputs": [],
   "source": [
    "class Linear_Regression():\n",
    "\n",
    "    def __init__(self, learning_rate, no_of_epochs ): # to initiate parameters\n",
    "        \n",
    "        self.learning_rate = learning_rate\n",
    "        self.no_of_epochs = no_of_epochs\n",
    "    \n",
    "    def fit(self,x, y): # to fit data to the model\n",
    "        \n",
    "        #number of training examples and number of feautures\n",
    "        # in this dataset we have only on feature -> number of years of experience\n",
    "\n",
    "        self.m, self.n = x.shape # rows -> number of training examples, columns -> number of parameters\n",
    "\n",
    "        self.w = np.zeros(self.n) # each parameter has its own weight\n",
    "        self.b = 0 # bias has only one value for the entire model\n",
    "        self.x = x\n",
    "        self.y = y\n",
    "\n",
    "        # implementing gradient descent\n",
    "\n",
    "        for i in range(self.no_of_epochs):\n",
    "            self.update_weights()\n",
    "\n",
    "    def update_weights(self,):\n",
    "        \n",
    "        y_prediction = self.predict(self.x)\n",
    "\n",
    "        # calculate the gradients\n",
    "\n",
    "        dw = -(2 * (self.x.T).dot(self.y - y_prediction))/self.m\n",
    "        db = -(2*np.sum(self.y - y_prediction))/self.m\n",
    "\n",
    "        # updating the weights\n",
    "\n",
    "        self.w = self.w - self.learning_rate*dw\n",
    "        self.b = self.b - self.learning_rate*db\n",
    "\n",
    "    def predict(self,x): # input number of years of experience and predict salary\n",
    "        \n",
    "        return x.dot(self.w) + self.b\n",
    "        "
   ]
  },
  {
   "cell_type": "markdown",
   "metadata": {},
   "source": [
    "WORKFLOW OF THE REGRESSION MODEL :\n",
    "\n",
    "    1. Set the learning rate and number of epochs, initiate weight and bias value.\n",
    "    2. Build Linear Regression Equation (y = mx + b)\n",
    "    3. Find the \"y pred\" value for rhe corresponding weight and bias\n",
    "    4. Check the loss function for the parameter values\n",
    "    5. Update the parameter values using Gradient Descent\n",
    "    6. Repeat 3, 4, 5 till minimum loss function is reached"
   ]
  },
  {
   "cell_type": "code",
   "execution_count": 29,
   "metadata": {},
   "outputs": [],
   "source": [
    "import pandas as pd\n",
    "import matplotlib.pyplot as plt\n",
    "from sklearn.model_selection import train_test_split"
   ]
  },
  {
   "cell_type": "code",
   "execution_count": 30,
   "metadata": {},
   "outputs": [],
   "source": [
    "data = pd.read_csv('C:\\\\Users\\\\g7gay\\\\OneDrive\\\\Desktop\\\\Projects\\\\Linear_Regression\\\\salary_data.csv')"
   ]
  },
  {
   "cell_type": "code",
   "execution_count": 31,
   "metadata": {},
   "outputs": [
    {
     "data": {
      "text/plain": [
       "(30, 2)"
      ]
     },
     "execution_count": 31,
     "metadata": {},
     "output_type": "execute_result"
    }
   ],
   "source": [
    "data.shape"
   ]
  },
  {
   "cell_type": "code",
   "execution_count": 32,
   "metadata": {},
   "outputs": [
    {
     "data": {
      "text/plain": [
       "YearsExperience    0\n",
       "Salary             0\n",
       "dtype: int64"
      ]
     },
     "execution_count": 32,
     "metadata": {},
     "output_type": "execute_result"
    }
   ],
   "source": [
    "data.isnull().sum()"
   ]
  },
  {
   "cell_type": "code",
   "execution_count": 33,
   "metadata": {},
   "outputs": [
    {
     "name": "stdout",
     "output_type": "stream",
     "text": [
      "[[ 1.1]\n",
      " [ 1.3]\n",
      " [ 1.5]\n",
      " [ 2. ]\n",
      " [ 2.2]\n",
      " [ 2.9]\n",
      " [ 3. ]\n",
      " [ 3.2]\n",
      " [ 3.2]\n",
      " [ 3.7]\n",
      " [ 3.9]\n",
      " [ 4. ]\n",
      " [ 4. ]\n",
      " [ 4.1]\n",
      " [ 4.5]\n",
      " [ 4.9]\n",
      " [ 5.1]\n",
      " [ 5.3]\n",
      " [ 5.9]\n",
      " [ 6. ]\n",
      " [ 6.8]\n",
      " [ 7.1]\n",
      " [ 7.9]\n",
      " [ 8.2]\n",
      " [ 8.7]\n",
      " [ 9. ]\n",
      " [ 9.5]\n",
      " [ 9.6]\n",
      " [10.3]\n",
      " [10.5]]\n",
      "[ 39343  46205  37731  43525  39891  56642  60150  54445  64445  57189\n",
      "  63218  55794  56957  57081  61111  67938  66029  83088  81363  93940\n",
      "  91738  98273 101302 113812 109431 105582 116969 112635 122391 121872]\n"
     ]
    }
   ],
   "source": [
    "x = data.iloc[:,:-1].values\n",
    "y = data.iloc[:,1].values\n",
    "print(x)\n",
    "print(y)"
   ]
  },
  {
   "cell_type": "code",
   "execution_count": 34,
   "metadata": {},
   "outputs": [],
   "source": [
    "x_train, x_test, y_train, y_test = train_test_split(x,y,test_size = 0.33, random_state =2)"
   ]
  },
  {
   "cell_type": "code",
   "execution_count": 35,
   "metadata": {},
   "outputs": [],
   "source": [
    "model = Linear_Regression(learning_rate=0.02, no_of_epochs=1000)"
   ]
  },
  {
   "cell_type": "code",
   "execution_count": 36,
   "metadata": {},
   "outputs": [],
   "source": [
    "model.fit(x_train, y_train)"
   ]
  },
  {
   "cell_type": "code",
   "execution_count": 38,
   "metadata": {},
   "outputs": [
    {
     "name": "stdout",
     "output_type": "stream",
     "text": [
      "weight =  9514.400999035135\n",
      "bias =  23697.406507136307\n"
     ]
    }
   ],
   "source": [
    "# printing weights and bias\n",
    "\n",
    "print('weight = ', model.w[0])\n",
    "print('bias = ', model.b)"
   ]
  },
  {
   "cell_type": "markdown",
   "metadata": {},
   "source": [
    "PREDICTION"
   ]
  },
  {
   "cell_type": "code",
   "execution_count": 39,
   "metadata": {},
   "outputs": [
    {
     "name": "stdout",
     "output_type": "stream",
     "text": [
      "[ 36066.12780588  34163.24760607  66512.21100279  58900.69020357\n",
      "  91249.65360029  80783.81250135 101715.49469922  52240.60950424\n",
      "  42726.20850521  88395.33330058]\n"
     ]
    }
   ],
   "source": [
    "test_data_prediction = model.predict(x_test)\n",
    "print(test_data_prediction)"
   ]
  },
  {
   "cell_type": "markdown",
   "metadata": {},
   "source": [
    "VISUALIZING"
   ]
  },
  {
   "cell_type": "code",
   "execution_count": 42,
   "metadata": {},
   "outputs": [
    {
     "data": {
      "image/png": "[encoded data removed]",
      "text/plain": [
       "<Figure size 432x288 with 1 Axes>"
      ]
     },
     "metadata": {
      "needs_background": "light"
     },
     "output_type": "display_data"
    }
   ],
   "source": [
    "plt.scatter(x_test, y_test, color ='red')\n",
    "plt.plot(x_test, test_data_prediction)\n",
    "plt.xlabel('Work Experience')\n",
    "plt.ylabel('Salary')\n",
    "plt.title('Salary vs Work')\n",
    "plt.show()"
   ]
  },
  {
   "cell_type": "code",
   "execution_count": null,
   "metadata": {},
   "outputs": [],
   "source": []
  }
 ],
 "metadata": {
  "kernelspec": {
   "display_name": "Python 3.8.5 ('base')",
   "language": "python",
   "name": "python3"
  },
  "language_info": {
   "codemirror_mode": {
    "name": "ipython",
    "version": 3
   },
   "file_extension": ".py",
   "mimetype": "text/x-python",
   "name": "python",
   "nbconvert_exporter": "python",
   "pygments_lexer": "ipython3",
   "version": "3.8.5"
  },
  "orig_nbformat": 4,
  "vscode": {
   "interpreter": {
    "hash": "c834e37c1b64006e2f70917c0d76196af7e0c266d48e7c4ad8c18b56300cf6a3"
   }
  }
 },
 "nbformat": 4,
 "nbformat_minor": 2
}
